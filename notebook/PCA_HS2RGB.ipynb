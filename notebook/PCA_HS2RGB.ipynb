{
 "cells": [
  {
   "cell_type": "code",
   "execution_count": 1,
   "id": "0852643a",
   "metadata": {},
   "outputs": [],
   "source": [
    "from sklearn.decomposition import PCA"
   ]
  },
  {
   "cell_type": "code",
   "execution_count": 2,
   "id": "56b89e4d",
   "metadata": {},
   "outputs": [],
   "source": [
    "import numpy as np\n",
    "import matplotlib.pyplot as plt\n",
    "import scipy.io as sio\n",
    "import os\n",
    "\n",
    "import warnings\n",
    "warnings.filterwarnings('ignore')"
   ]
  },
  {
   "cell_type": "code",
   "execution_count": 3,
   "id": "63e449b7",
   "metadata": {},
   "outputs": [
    {
     "data": {
      "text/plain": [
       "{'__header__': b'MATLAB 5.0 MAT-file Platform: posix, Created on: Fri Aug 14 18:21:15 2020',\n",
       " '__version__': '1.0',\n",
       " '__globals__': [],\n",
       " 'msi': array([[[0.01568627, 0.01176471, 0.00784314, ..., 0.        ,\n",
       "          0.        , 0.        ],\n",
       "         [0.        , 0.        , 0.        , ..., 0.        ,\n",
       "          0.        , 0.        ],\n",
       "         [0.        , 0.        , 0.        , ..., 0.        ,\n",
       "          0.        , 0.        ],\n",
       "         ...,\n",
       "         [0.0627451 , 0.07843137, 0.09019608, ..., 0.01960784,\n",
       "          0.01960784, 0.01568627],\n",
       "         [0.0627451 , 0.0745098 , 0.09411765, ..., 0.01960784,\n",
       "          0.01960784, 0.01960784],\n",
       "         [0.0627451 , 0.0745098 , 0.09019608, ..., 0.01960784,\n",
       "          0.01960784, 0.01568627]],\n",
       " \n",
       "        [[0.01568627, 0.01176471, 0.00784314, ..., 0.        ,\n",
       "          0.        , 0.        ],\n",
       "         [0.        , 0.        , 0.        , ..., 0.        ,\n",
       "          0.02352941, 0.        ],\n",
       "         [0.        , 0.        , 0.        , ..., 0.        ,\n",
       "          0.02352941, 0.        ],\n",
       "         ...,\n",
       "         [0.07843137, 0.08627451, 0.10588235, ..., 0.02352941,\n",
       "          0.02352941, 0.02352941],\n",
       "         [0.07843137, 0.09019608, 0.10588235, ..., 0.02352941,\n",
       "          0.02352941, 0.02352941],\n",
       "         [0.0745098 , 0.09019608, 0.10588235, ..., 0.02352941,\n",
       "          0.02352941, 0.01960784]],\n",
       " \n",
       "        [[0.01568627, 0.01176471, 0.00784314, ..., 0.        ,\n",
       "          0.        , 0.        ],\n",
       "         [0.        , 0.        , 0.        , ..., 0.        ,\n",
       "          0.        , 0.        ],\n",
       "         [0.        , 0.        , 0.        , ..., 0.        ,\n",
       "          0.        , 0.        ],\n",
       "         ...,\n",
       "         [0.07843137, 0.09019608, 0.10980392, ..., 0.02352941,\n",
       "          0.02352941, 0.02352941],\n",
       "         [0.0745098 , 0.09019608, 0.10980392, ..., 0.02352941,\n",
       "          0.02352941, 0.02352941],\n",
       "         [0.07843137, 0.09019608, 0.10980392, ..., 0.02352941,\n",
       "          0.02352941, 0.02352941]],\n",
       " \n",
       "        ...,\n",
       " \n",
       "        [[0.00392157, 0.00392157, 0.        , ..., 0.        ,\n",
       "          0.        , 0.        ],\n",
       "         [0.        , 0.        , 0.        , ..., 0.        ,\n",
       "          0.02352941, 0.        ],\n",
       "         [0.        , 0.        , 0.        , ..., 0.02352941,\n",
       "          0.        , 0.        ],\n",
       "         ...,\n",
       "         [0.04705882, 0.03921569, 0.03137255, ..., 0.01568627,\n",
       "          0.01568627, 0.01568627],\n",
       "         [0.04705882, 0.03921569, 0.03137255, ..., 0.01568627,\n",
       "          0.01568627, 0.01568627],\n",
       "         [0.04705882, 0.03921569, 0.03137255, ..., 0.01176471,\n",
       "          0.01568627, 0.01568627]],\n",
       " \n",
       "        [[0.00392157, 0.00392157, 0.        , ..., 0.        ,\n",
       "          0.        , 0.        ],\n",
       "         [0.        , 0.        , 0.        , ..., 0.        ,\n",
       "          0.        , 0.        ],\n",
       "         [0.        , 0.        , 0.        , ..., 0.        ,\n",
       "          0.02352941, 0.        ],\n",
       "         ...,\n",
       "         [0.04705882, 0.03921569, 0.03137255, ..., 0.01176471,\n",
       "          0.01568627, 0.01568627],\n",
       "         [0.04705882, 0.03921569, 0.03137255, ..., 0.01568627,\n",
       "          0.01568627, 0.01568627],\n",
       "         [0.04705882, 0.03921569, 0.03137255, ..., 0.01568627,\n",
       "          0.01568627, 0.01568627]],\n",
       " \n",
       "        [[0.00784314, 0.00392157, 0.        , ..., 0.        ,\n",
       "          0.        , 0.        ],\n",
       "         [0.        , 0.        , 0.        , ..., 0.        ,\n",
       "          0.        , 0.        ],\n",
       "         [0.        , 0.        , 0.        , ..., 0.        ,\n",
       "          0.        , 0.        ],\n",
       "         ...,\n",
       "         [0.04313725, 0.03529412, 0.03137255, ..., 0.01568627,\n",
       "          0.01568627, 0.01568627],\n",
       "         [0.04313725, 0.03529412, 0.03137255, ..., 0.01176471,\n",
       "          0.01176471, 0.01568627],\n",
       "         [0.04313725, 0.03529412, 0.03137255, ..., 0.01176471,\n",
       "          0.01176471, 0.01568627]]])}"
      ]
     },
     "execution_count": 3,
     "metadata": {},
     "output_type": "execute_result"
    }
   ],
   "source": [
    "BX = sio.loadmat(\"data/X/balloons_ms\")\n",
    "BX"
   ]
  },
  {
   "cell_type": "code",
   "execution_count": 4,
   "id": "0932c0c8",
   "metadata": {},
   "outputs": [],
   "source": [
    "ballon_arr = BX['msi']"
   ]
  },
  {
   "cell_type": "code",
   "execution_count": 5,
   "id": "ecd3e6a9",
   "metadata": {},
   "outputs": [
    {
     "data": {
      "text/plain": [
       "(512, 512, 31)"
      ]
     },
     "execution_count": 5,
     "metadata": {},
     "output_type": "execute_result"
    }
   ],
   "source": [
    "ballon_arr.shape"
   ]
  },
  {
   "cell_type": "code",
   "execution_count": 6,
   "id": "580ef812",
   "metadata": {},
   "outputs": [
    {
     "data": {
      "text/plain": [
       "262144"
      ]
     },
     "execution_count": 6,
     "metadata": {},
     "output_type": "execute_result"
    }
   ],
   "source": [
    "512*512"
   ]
  },
  {
   "cell_type": "code",
   "execution_count": 7,
   "id": "3ef4048a",
   "metadata": {},
   "outputs": [],
   "source": [
    "reshaped_image = ballon_arr.reshape(512*512, 31)"
   ]
  },
  {
   "cell_type": "code",
   "execution_count": 8,
   "id": "c0aa78a5",
   "metadata": {},
   "outputs": [],
   "source": [
    "norm = (reshaped_image - np.mean(reshaped_image, axis=0)) / np.std(reshaped_image, axis=0)"
   ]
  },
  {
   "cell_type": "markdown",
   "id": "c372d052",
   "metadata": {},
   "source": [
    "## PCA - HS2RGB"
   ]
  },
  {
   "cell_type": "code",
   "execution_count": 9,
   "id": "3d142893",
   "metadata": {},
   "outputs": [
    {
     "data": {
      "text/html": [
       "<style>#sk-container-id-1 {color: black;background-color: white;}#sk-container-id-1 pre{padding: 0;}#sk-container-id-1 div.sk-toggleable {background-color: white;}#sk-container-id-1 label.sk-toggleable__label {cursor: pointer;display: block;width: 100%;margin-bottom: 0;padding: 0.3em;box-sizing: border-box;text-align: center;}#sk-container-id-1 label.sk-toggleable__label-arrow:before {content: \"▸\";float: left;margin-right: 0.25em;color: #696969;}#sk-container-id-1 label.sk-toggleable__label-arrow:hover:before {color: black;}#sk-container-id-1 div.sk-estimator:hover label.sk-toggleable__label-arrow:before {color: black;}#sk-container-id-1 div.sk-toggleable__content {max-height: 0;max-width: 0;overflow: hidden;text-align: left;background-color: #f0f8ff;}#sk-container-id-1 div.sk-toggleable__content pre {margin: 0.2em;color: black;border-radius: 0.25em;background-color: #f0f8ff;}#sk-container-id-1 input.sk-toggleable__control:checked~div.sk-toggleable__content {max-height: 200px;max-width: 100%;overflow: auto;}#sk-container-id-1 input.sk-toggleable__control:checked~label.sk-toggleable__label-arrow:before {content: \"▾\";}#sk-container-id-1 div.sk-estimator input.sk-toggleable__control:checked~label.sk-toggleable__label {background-color: #d4ebff;}#sk-container-id-1 div.sk-label input.sk-toggleable__control:checked~label.sk-toggleable__label {background-color: #d4ebff;}#sk-container-id-1 input.sk-hidden--visually {border: 0;clip: rect(1px 1px 1px 1px);clip: rect(1px, 1px, 1px, 1px);height: 1px;margin: -1px;overflow: hidden;padding: 0;position: absolute;width: 1px;}#sk-container-id-1 div.sk-estimator {font-family: monospace;background-color: #f0f8ff;border: 1px dotted black;border-radius: 0.25em;box-sizing: border-box;margin-bottom: 0.5em;}#sk-container-id-1 div.sk-estimator:hover {background-color: #d4ebff;}#sk-container-id-1 div.sk-parallel-item::after {content: \"\";width: 100%;border-bottom: 1px solid gray;flex-grow: 1;}#sk-container-id-1 div.sk-label:hover label.sk-toggleable__label {background-color: #d4ebff;}#sk-container-id-1 div.sk-serial::before {content: \"\";position: absolute;border-left: 1px solid gray;box-sizing: border-box;top: 0;bottom: 0;left: 50%;z-index: 0;}#sk-container-id-1 div.sk-serial {display: flex;flex-direction: column;align-items: center;background-color: white;padding-right: 0.2em;padding-left: 0.2em;position: relative;}#sk-container-id-1 div.sk-item {position: relative;z-index: 1;}#sk-container-id-1 div.sk-parallel {display: flex;align-items: stretch;justify-content: center;background-color: white;position: relative;}#sk-container-id-1 div.sk-item::before, #sk-container-id-1 div.sk-parallel-item::before {content: \"\";position: absolute;border-left: 1px solid gray;box-sizing: border-box;top: 0;bottom: 0;left: 50%;z-index: -1;}#sk-container-id-1 div.sk-parallel-item {display: flex;flex-direction: column;z-index: 1;position: relative;background-color: white;}#sk-container-id-1 div.sk-parallel-item:first-child::after {align-self: flex-end;width: 50%;}#sk-container-id-1 div.sk-parallel-item:last-child::after {align-self: flex-start;width: 50%;}#sk-container-id-1 div.sk-parallel-item:only-child::after {width: 0;}#sk-container-id-1 div.sk-dashed-wrapped {border: 1px dashed gray;margin: 0 0.4em 0.5em 0.4em;box-sizing: border-box;padding-bottom: 0.4em;background-color: white;}#sk-container-id-1 div.sk-label label {font-family: monospace;font-weight: bold;display: inline-block;line-height: 1.2em;}#sk-container-id-1 div.sk-label-container {text-align: center;}#sk-container-id-1 div.sk-container {/* jupyter's `normalize.less` sets `[hidden] { display: none; }` but bootstrap.min.css set `[hidden] { display: none !important; }` so we also need the `!important` here to be able to override the default hidden behavior on the sphinx rendered scikit-learn.org. See: https://github.com/scikit-learn/scikit-learn/issues/21755 */display: inline-block !important;position: relative;}#sk-container-id-1 div.sk-text-repr-fallback {display: none;}</style><div id=\"sk-container-id-1\" class=\"sk-top-container\"><div class=\"sk-text-repr-fallback\"><pre>PCA(n_components=3)</pre><b>In a Jupyter environment, please rerun this cell to show the HTML representation or trust the notebook. <br />On GitHub, the HTML representation is unable to render, please try loading this page with nbviewer.org.</b></div><div class=\"sk-container\" hidden><div class=\"sk-item\"><div class=\"sk-estimator sk-toggleable\"><input class=\"sk-toggleable__control sk-hidden--visually\" id=\"sk-estimator-id-1\" type=\"checkbox\" checked><label for=\"sk-estimator-id-1\" class=\"sk-toggleable__label sk-toggleable__label-arrow\">PCA</label><div class=\"sk-toggleable__content\"><pre>PCA(n_components=3)</pre></div></div></div></div></div>"
      ],
      "text/plain": [
       "PCA(n_components=3)"
      ]
     },
     "execution_count": 9,
     "metadata": {},
     "output_type": "execute_result"
    }
   ],
   "source": [
    "pca = PCA(n_components=3)\n",
    "pca.fit(norm)"
   ]
  },
  {
   "cell_type": "code",
   "execution_count": 11,
   "id": "1376af18",
   "metadata": {},
   "outputs": [],
   "source": [
    "rgb = pca.components_"
   ]
  },
  {
   "cell_type": "code",
   "execution_count": 12,
   "id": "c8d3c844",
   "metadata": {},
   "outputs": [
    {
     "data": {
      "text/plain": [
       "array([[ 0.17736671,  0.16562903,  0.16707284,  0.16248377,  0.16060933,\n",
       "         0.15814267,  0.15936263,  0.16047084,  0.16442154,  0.17464097,\n",
       "         0.18476391,  0.18888906,  0.18823057,  0.18787929,  0.18787078,\n",
       "         0.18697202,  0.18464846,  0.18265533,  0.18479017,  0.18707507,\n",
       "         0.18605419,  0.18444694,  0.18362596,  0.18432978,  0.18580625,\n",
       "         0.1869349 ,  0.18740956,  0.18743552,  0.18686734,  0.18602856,\n",
       "         0.18526618],\n",
       "       [-0.15845387, -0.25108033, -0.24610001, -0.26755114, -0.277818  ,\n",
       "        -0.28957715, -0.28613468, -0.28116021, -0.26301353, -0.2098226 ,\n",
       "        -0.12924676, -0.03321762,  0.02028264,  0.05589771,  0.08216069,\n",
       "         0.10722535,  0.1315675 ,  0.14815413,  0.14955889,  0.14756889,\n",
       "         0.15188204,  0.15658021,  0.15731157,  0.15037786,  0.14111205,\n",
       "         0.13065096,  0.12442634,  0.12672688,  0.13246054,  0.13951507,\n",
       "         0.14513015],\n",
       "       [ 0.1857684 ,  0.1350857 ,  0.15426601,  0.13501752,  0.10827835,\n",
       "         0.06409498,  0.01452152, -0.0250453 , -0.07771841, -0.15074778,\n",
       "        -0.23106038, -0.28765677, -0.30940889, -0.2989963 , -0.27127882,\n",
       "        -0.24071682, -0.22335188, -0.21198061, -0.14603295, -0.01471607,\n",
       "         0.07884267,  0.13670395,  0.16754484,  0.18030035,  0.17267325,\n",
       "         0.17508573,  0.17730394,  0.16980446,  0.16890658,  0.16906989,\n",
       "         0.16513904]])"
      ]
     },
     "execution_count": 12,
     "metadata": {},
     "output_type": "execute_result"
    }
   ],
   "source": [
    "rgb"
   ]
  },
  {
   "cell_type": "code",
   "execution_count": 13,
   "id": "455a14fe",
   "metadata": {},
   "outputs": [
    {
     "data": {
      "text/plain": [
       "(3, 31)"
      ]
     },
     "execution_count": 13,
     "metadata": {},
     "output_type": "execute_result"
    }
   ],
   "source": [
    "rgb.shape"
   ]
  },
  {
   "cell_type": "code",
   "execution_count": 14,
   "id": "fd5b1dba",
   "metadata": {},
   "outputs": [
    {
     "data": {
      "text/plain": [
       "(262144, 31)"
      ]
     },
     "execution_count": 14,
     "metadata": {},
     "output_type": "execute_result"
    }
   ],
   "source": [
    "norm.shape"
   ]
  },
  {
   "cell_type": "code",
   "execution_count": 15,
   "id": "b88d2590",
   "metadata": {},
   "outputs": [],
   "source": [
    "rgb_image = np.dot(norm, rgb.T)"
   ]
  },
  {
   "cell_type": "code",
   "execution_count": 16,
   "id": "bf2436a1",
   "metadata": {},
   "outputs": [],
   "source": [
    "rgb_image = rgb_image.reshape(512, 512, 3)"
   ]
  },
  {
   "cell_type": "code",
   "execution_count": 17,
   "id": "07c9d559",
   "metadata": {},
   "outputs": [
    {
     "name": "stderr",
     "output_type": "stream",
     "text": [
      "Clipping input data to the valid range for imshow with RGB data ([0..1] for floats or [0..255] for integers).\n"
     ]
    },
    {
     "data": {
      "text/plain": [
       "<matplotlib.image.AxesImage at 0x7fb367481f90>"
      ]
     },
     "execution_count": 17,
     "metadata": {},
     "output_type": "execute_result"
    },
    {
     "data": {
      "image/png": "[encoded data removed]",
      "text/plain": [
       "<Figure size 432x288 with 1 Axes>"
      ]
     },
     "metadata": {
      "needs_background": "light"
     },
     "output_type": "display_data"
    }
   ],
   "source": [
    "plt.imshow(rgb_image)"
   ]
  },
  {
   "cell_type": "code",
   "execution_count": 18,
   "id": "8ff7136f",
   "metadata": {},
   "outputs": [
    {
     "name": "stderr",
     "output_type": "stream",
     "text": [
      "Clipping input data to the valid range for imshow with RGB data ([0..1] for floats or [0..255] for integers).\n"
     ]
    },
    {
     "data": {
      "text/plain": [
       "<matplotlib.image.AxesImage at 0x7fb35f76edd0>"
      ]
     },
     "execution_count": 18,
     "metadata": {},
     "output_type": "execute_result"
    },
    {
     "data": {
      "image/png": "[encoded data removed]",
      "text/plain": [
       "<Figure size 432x288 with 1 Axes>"
      ]
     },
     "metadata": {
      "needs_background": "light"
     },
     "output_type": "display_data"
    }
   ],
   "source": [
    "BY = sio.loadmat(\"data/Y/balloons_ms\")\n",
    "original = BY['RGB']\n",
    "plt.imshow(original)"
   ]
  },
  {
   "cell_type": "markdown",
   "id": "558200bc",
   "metadata": {},
   "source": [
    "## Evaluation Metrics- MSE and SSIM"
   ]
  },
  {
   "cell_type": "code",
   "execution_count": 19,
   "id": "07133707",
   "metadata": {},
   "outputs": [],
   "source": [
    "from skimage import data, img_as_float\n",
    "from skimage.metrics import structural_similarity as ssim\n",
    "from skimage.metrics import mean_squared_error"
   ]
  },
  {
   "cell_type": "code",
   "execution_count": 20,
   "id": "308bed81",
   "metadata": {},
   "outputs": [
    {
     "data": {
      "text/plain": [
       "9.603877666357434"
      ]
     },
     "execution_count": 20,
     "metadata": {},
     "output_type": "execute_result"
    }
   ],
   "source": [
    "mse_met = mean_squared_error(rgb_image, original)\n",
    "mse_met"
   ]
  },
  {
   "cell_type": "code",
   "execution_count": 21,
   "id": "8bb0eb36",
   "metadata": {},
   "outputs": [],
   "source": [
    "ssim_met = ssim(rgb_image, original, data_range=rgb_image.max()-rgb_image.min(), multichannel=True)"
   ]
  },
  {
   "cell_type": "code",
   "execution_count": 22,
   "id": "9f0334d9",
   "metadata": {},
   "outputs": [
    {
     "data": {
      "text/plain": [
       "0.18519666548950406"
      ]
     },
     "execution_count": 22,
     "metadata": {},
     "output_type": "execute_result"
    }
   ],
   "source": [
    "ssim_met"
   ]
  },
  {
   "cell_type": "code",
   "execution_count": 23,
   "id": "a2d68ee3",
   "metadata": {},
   "outputs": [],
   "source": [
    "from skimage.filters import threshold_otsu\n",
    "from sklearn.impute import SimpleImputer"
   ]
  },
  {
   "cell_type": "markdown",
   "id": "aa804be1",
   "metadata": {},
   "source": [
    "## Auto thresholding"
   ]
  },
  {
   "cell_type": "code",
   "execution_count": 24,
   "id": "2d862698",
   "metadata": {},
   "outputs": [],
   "source": [
    "threshold = threshold_otsu(reshaped_image)"
   ]
  },
  {
   "cell_type": "code",
   "execution_count": 25,
   "id": "37ab3d37",
   "metadata": {},
   "outputs": [
    {
     "data": {
      "text/plain": [
       "numpy.float64"
      ]
     },
     "execution_count": 25,
     "metadata": {},
     "output_type": "execute_result"
    }
   ],
   "source": [
    "type(threshold)"
   ]
  },
  {
   "cell_type": "code",
   "execution_count": 26,
   "id": "1b8427d8",
   "metadata": {},
   "outputs": [
    {
     "data": {
      "text/plain": [
       "0.22513020833333333"
      ]
     },
     "execution_count": 26,
     "metadata": {},
     "output_type": "execute_result"
    }
   ],
   "source": [
    "threshold"
   ]
  },
  {
   "cell_type": "code",
   "execution_count": 27,
   "id": "89354d7b",
   "metadata": {},
   "outputs": [
    {
     "data": {
      "text/plain": [
       "(262144, 31)"
      ]
     },
     "execution_count": 27,
     "metadata": {},
     "output_type": "execute_result"
    }
   ],
   "source": [
    "binary_image = reshaped_image > threshold\n",
    "binary_image.shape"
   ]
  },
  {
   "cell_type": "markdown",
   "id": "ccb0140a",
   "metadata": {},
   "source": [
    "## Implement Auto thresholding on ballon arr"
   ]
  },
  {
   "cell_type": "code",
   "execution_count": 28,
   "id": "6dcaf0cf",
   "metadata": {},
   "outputs": [],
   "source": [
    "binary_image = np.zeros_like(reshaped_image, dtype=bool)\n",
    "for i in range(30):\n",
    "    threshold = threshold_otsu(reshaped_image[:, i])\n",
    "    binary_image[:, i] = reshaped_image[:, i] > threshold"
   ]
  },
  {
   "cell_type": "code",
   "execution_count": 29,
   "id": "48eaf9b3",
   "metadata": {},
   "outputs": [
    {
     "data": {
      "text/plain": [
       "array([[False, False, False, ..., False, False, False],\n",
       "       [False, False, False, ..., False, False, False],\n",
       "       [False, False, False, ..., False, False, False],\n",
       "       ...,\n",
       "       [False, False, False, ..., False, False, False],\n",
       "       [False, False, False, ..., False, False, False],\n",
       "       [False, False, False, ..., False, False, False]])"
      ]
     },
     "execution_count": 29,
     "metadata": {},
     "output_type": "execute_result"
    }
   ],
   "source": [
    "binary_image"
   ]
  },
  {
   "cell_type": "markdown",
   "id": "5ecd18f7",
   "metadata": {},
   "source": [
    "## Group similar matrix"
   ]
  },
  {
   "cell_type": "code",
   "execution_count": 30,
   "id": "36029601",
   "metadata": {},
   "outputs": [],
   "source": [
    "sim = np.full_like(reshaped_image,0.8)\n",
    "for i in range(30):\n",
    "    sim[:, i] = np.sum(reshaped_image[:, i][binary_image[:, i]])"
   ]
  },
  {
   "cell_type": "code",
   "execution_count": 38,
   "id": "544fe561",
   "metadata": {},
   "outputs": [
    {
     "data": {
      "text/plain": [
       "array([[4.64546667e+03, 1.95581176e+04, 2.14119922e+04, ...,\n",
       "        2.17010471e+04, 2.20280275e+04, 8.00000000e-01],\n",
       "       [4.64546667e+03, 1.95581176e+04, 2.14119922e+04, ...,\n",
       "        2.17010471e+04, 2.20280275e+04, 8.00000000e-01],\n",
       "       [4.64546667e+03, 1.95581176e+04, 2.14119922e+04, ...,\n",
       "        2.17010471e+04, 2.20280275e+04, 8.00000000e-01],\n",
       "       ...,\n",
       "       [4.64546667e+03, 1.95581176e+04, 2.14119922e+04, ...,\n",
       "        2.17010471e+04, 2.20280275e+04, 8.00000000e-01],\n",
       "       [4.64546667e+03, 1.95581176e+04, 2.14119922e+04, ...,\n",
       "        2.17010471e+04, 2.20280275e+04, 8.00000000e-01],\n",
       "       [4.64546667e+03, 1.95581176e+04, 2.14119922e+04, ...,\n",
       "        2.17010471e+04, 2.20280275e+04, 8.00000000e-01]])"
      ]
     },
     "execution_count": 38,
     "metadata": {},
     "output_type": "execute_result"
    }
   ],
   "source": [
    "sim"
   ]
  },
  {
   "cell_type": "code",
   "execution_count": 31,
   "id": "1cd5ccec",
   "metadata": {},
   "outputs": [],
   "source": [
    "sim = np.nan_to_num(sim, nan=0.0)"
   ]
  },
  {
   "cell_type": "code",
   "execution_count": 32,
   "id": "f14f49a1",
   "metadata": {},
   "outputs": [],
   "source": [
    "norm = (sim - np.mean(sim, axis=0)) / np.std(sim, axis=0)"
   ]
  },
  {
   "cell_type": "code",
   "execution_count": 39,
   "id": "3bde7bdb",
   "metadata": {},
   "outputs": [
    {
     "data": {
      "text/plain": [
       "array([[-1., -1., -1., ..., -1.,  1.,  1.],\n",
       "       [-1., -1., -1., ..., -1.,  1.,  1.],\n",
       "       [-1., -1., -1., ..., -1.,  1.,  1.],\n",
       "       ...,\n",
       "       [-1., -1., -1., ..., -1.,  1.,  1.],\n",
       "       [-1., -1., -1., ..., -1.,  1.,  1.],\n",
       "       [-1., -1., -1., ..., -1.,  1.,  1.]])"
      ]
     },
     "execution_count": 39,
     "metadata": {},
     "output_type": "execute_result"
    }
   ],
   "source": [
    "norm"
   ]
  },
  {
   "cell_type": "code",
   "execution_count": 40,
   "id": "354782d5",
   "metadata": {},
   "outputs": [
    {
     "data": {
      "text/plain": [
       "(-1.0, 1.0)"
      ]
     },
     "execution_count": 40,
     "metadata": {},
     "output_type": "execute_result"
    }
   ],
   "source": [
    "norm.min(),norm.max()"
   ]
  },
  {
   "cell_type": "code",
   "execution_count": 33,
   "id": "ffcfcbb8",
   "metadata": {},
   "outputs": [
    {
     "data": {
      "text/plain": [
       "(262144, 31)"
      ]
     },
     "execution_count": 33,
     "metadata": {},
     "output_type": "execute_result"
    }
   ],
   "source": [
    "norm.shape"
   ]
  },
  {
   "cell_type": "code",
   "execution_count": 34,
   "id": "80dcf45f",
   "metadata": {},
   "outputs": [
    {
     "data": {
      "text/html": [
       "<style>#sk-container-id-2 {color: black;background-color: white;}#sk-container-id-2 pre{padding: 0;}#sk-container-id-2 div.sk-toggleable {background-color: white;}#sk-container-id-2 label.sk-toggleable__label {cursor: pointer;display: block;width: 100%;margin-bottom: 0;padding: 0.3em;box-sizing: border-box;text-align: center;}#sk-container-id-2 label.sk-toggleable__label-arrow:before {content: \"▸\";float: left;margin-right: 0.25em;color: #696969;}#sk-container-id-2 label.sk-toggleable__label-arrow:hover:before {color: black;}#sk-container-id-2 div.sk-estimator:hover label.sk-toggleable__label-arrow:before {color: black;}#sk-container-id-2 div.sk-toggleable__content {max-height: 0;max-width: 0;overflow: hidden;text-align: left;background-color: #f0f8ff;}#sk-container-id-2 div.sk-toggleable__content pre {margin: 0.2em;color: black;border-radius: 0.25em;background-color: #f0f8ff;}#sk-container-id-2 input.sk-toggleable__control:checked~div.sk-toggleable__content {max-height: 200px;max-width: 100%;overflow: auto;}#sk-container-id-2 input.sk-toggleable__control:checked~label.sk-toggleable__label-arrow:before {content: \"▾\";}#sk-container-id-2 div.sk-estimator input.sk-toggleable__control:checked~label.sk-toggleable__label {background-color: #d4ebff;}#sk-container-id-2 div.sk-label input.sk-toggleable__control:checked~label.sk-toggleable__label {background-color: #d4ebff;}#sk-container-id-2 input.sk-hidden--visually {border: 0;clip: rect(1px 1px 1px 1px);clip: rect(1px, 1px, 1px, 1px);height: 1px;margin: -1px;overflow: hidden;padding: 0;position: absolute;width: 1px;}#sk-container-id-2 div.sk-estimator {font-family: monospace;background-color: #f0f8ff;border: 1px dotted black;border-radius: 0.25em;box-sizing: border-box;margin-bottom: 0.5em;}#sk-container-id-2 div.sk-estimator:hover {background-color: #d4ebff;}#sk-container-id-2 div.sk-parallel-item::after {content: \"\";width: 100%;border-bottom: 1px solid gray;flex-grow: 1;}#sk-container-id-2 div.sk-label:hover label.sk-toggleable__label {background-color: #d4ebff;}#sk-container-id-2 div.sk-serial::before {content: \"\";position: absolute;border-left: 1px solid gray;box-sizing: border-box;top: 0;bottom: 0;left: 50%;z-index: 0;}#sk-container-id-2 div.sk-serial {display: flex;flex-direction: column;align-items: center;background-color: white;padding-right: 0.2em;padding-left: 0.2em;position: relative;}#sk-container-id-2 div.sk-item {position: relative;z-index: 1;}#sk-container-id-2 div.sk-parallel {display: flex;align-items: stretch;justify-content: center;background-color: white;position: relative;}#sk-container-id-2 div.sk-item::before, #sk-container-id-2 div.sk-parallel-item::before {content: \"\";position: absolute;border-left: 1px solid gray;box-sizing: border-box;top: 0;bottom: 0;left: 50%;z-index: -1;}#sk-container-id-2 div.sk-parallel-item {display: flex;flex-direction: column;z-index: 1;position: relative;background-color: white;}#sk-container-id-2 div.sk-parallel-item:first-child::after {align-self: flex-end;width: 50%;}#sk-container-id-2 div.sk-parallel-item:last-child::after {align-self: flex-start;width: 50%;}#sk-container-id-2 div.sk-parallel-item:only-child::after {width: 0;}#sk-container-id-2 div.sk-dashed-wrapped {border: 1px dashed gray;margin: 0 0.4em 0.5em 0.4em;box-sizing: border-box;padding-bottom: 0.4em;background-color: white;}#sk-container-id-2 div.sk-label label {font-family: monospace;font-weight: bold;display: inline-block;line-height: 1.2em;}#sk-container-id-2 div.sk-label-container {text-align: center;}#sk-container-id-2 div.sk-container {/* jupyter's `normalize.less` sets `[hidden] { display: none; }` but bootstrap.min.css set `[hidden] { display: none !important; }` so we also need the `!important` here to be able to override the default hidden behavior on the sphinx rendered scikit-learn.org. See: https://github.com/scikit-learn/scikit-learn/issues/21755 */display: inline-block !important;position: relative;}#sk-container-id-2 div.sk-text-repr-fallback {display: none;}</style><div id=\"sk-container-id-2\" class=\"sk-top-container\"><div class=\"sk-text-repr-fallback\"><pre>PCA(n_components=3)</pre><b>In a Jupyter environment, please rerun this cell to show the HTML representation or trust the notebook. <br />On GitHub, the HTML representation is unable to render, please try loading this page with nbviewer.org.</b></div><div class=\"sk-container\" hidden><div class=\"sk-item\"><div class=\"sk-estimator sk-toggleable\"><input class=\"sk-toggleable__control sk-hidden--visually\" id=\"sk-estimator-id-2\" type=\"checkbox\" checked><label for=\"sk-estimator-id-2\" class=\"sk-toggleable__label sk-toggleable__label-arrow\">PCA</label><div class=\"sk-toggleable__content\"><pre>PCA(n_components=3)</pre></div></div></div></div></div>"
      ],
      "text/plain": [
       "PCA(n_components=3)"
      ]
     },
     "execution_count": 34,
     "metadata": {},
     "output_type": "execute_result"
    }
   ],
   "source": [
    "pca = PCA(n_components=3)\n",
    "pca.fit(norm)"
   ]
  },
  {
   "cell_type": "code",
   "execution_count": 35,
   "id": "36400a20",
   "metadata": {},
   "outputs": [],
   "source": [
    "rgb = pca.components_\n",
    "rgb_image = np.dot(norm, rgb.T)\n",
    "rgb_image = rgb_image.reshape(512, 512, 3)"
   ]
  },
  {
   "cell_type": "code",
   "execution_count": 36,
   "id": "b0e1e85a",
   "metadata": {},
   "outputs": [
    {
     "name": "stderr",
     "output_type": "stream",
     "text": [
      "Clipping input data to the valid range for imshow with RGB data ([0..1] for floats or [0..255] for integers).\n"
     ]
    },
    {
     "data": {
      "text/plain": [
       "<matplotlib.image.AxesImage at 0x7fb35cbb54b0>"
      ]
     },
     "execution_count": 36,
     "metadata": {},
     "output_type": "execute_result"
    },
    {
     "data": {
      "image/png": "[encoded data removed]",
      "text/plain": [
       "<Figure size 432x288 with 1 Axes>"
      ]
     },
     "metadata": {
      "needs_background": "light"
     },
     "output_type": "display_data"
    }
   ],
   "source": [
    "plt.imshow(rgb_image)"
   ]
  },
  {
   "cell_type": "code",
   "execution_count": 37,
   "id": "a1470459",
   "metadata": {},
   "outputs": [
    {
     "data": {
      "text/plain": [
       "array([[[-1., -1., -1.],\n",
       "        [-1., -1., -1.],\n",
       "        [-1., -1., -1.],\n",
       "        ...,\n",
       "        [-1., -1., -1.],\n",
       "        [-1., -1., -1.],\n",
       "        [-1., -1., -1.]],\n",
       "\n",
       "       [[-1., -1., -1.],\n",
       "        [-1., -1., -1.],\n",
       "        [-1., -1., -1.],\n",
       "        ...,\n",
       "        [-1., -1., -1.],\n",
       "        [-1., -1., -1.],\n",
       "        [-1., -1., -1.]],\n",
       "\n",
       "       [[-1., -1., -1.],\n",
       "        [-1., -1., -1.],\n",
       "        [-1., -1., -1.],\n",
       "        ...,\n",
       "        [-1., -1., -1.],\n",
       "        [-1., -1., -1.],\n",
       "        [-1., -1., -1.]],\n",
       "\n",
       "       ...,\n",
       "\n",
       "       [[-1., -1., -1.],\n",
       "        [-1., -1., -1.],\n",
       "        [-1., -1., -1.],\n",
       "        ...,\n",
       "        [-1., -1., -1.],\n",
       "        [-1., -1., -1.],\n",
       "        [-1., -1., -1.]],\n",
       "\n",
       "       [[-1., -1., -1.],\n",
       "        [-1., -1., -1.],\n",
       "        [-1., -1., -1.],\n",
       "        ...,\n",
       "        [-1., -1., -1.],\n",
       "        [-1., -1., -1.],\n",
       "        [-1., -1., -1.]],\n",
       "\n",
       "       [[-1., -1., -1.],\n",
       "        [-1., -1., -1.],\n",
       "        [-1., -1., -1.],\n",
       "        ...,\n",
       "        [-1., -1., -1.],\n",
       "        [-1., -1., -1.],\n",
       "        [-1., -1., -1.]]])"
      ]
     },
     "execution_count": 37,
     "metadata": {},
     "output_type": "execute_result"
    }
   ],
   "source": [
    "rgb_image"
   ]
  }
 ],
 "metadata": {
  "kernelspec": {
   "display_name": "Python 3 (ipykernel)",
   "language": "python",
   "name": "python3"
  },
  "language_info": {
   "codemirror_mode": {
    "name": "ipython",
    "version": 3
   },
   "file_extension": ".py",
   "mimetype": "text/x-python",
   "name": "python",
   "nbconvert_exporter": "python",
   "pygments_lexer": "ipython3",
   "version": "3.10.6"
  }
 },
 "nbformat": 4,
 "nbformat_minor": 5
}
